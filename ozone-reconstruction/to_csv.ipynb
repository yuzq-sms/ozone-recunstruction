{
 "cells": [
  {
   "cell_type": "code",
   "execution_count": null,
   "metadata": {},
   "outputs": [],
   "source": [
    "import numpy as np\n",
    "import matplotlib.pyplot as plt\n",
    "import pandas as pd\n",
    "# 定义范围和步长\n",
    "x_range = np.arange(20, 43.5, 0.5)\n",
    "y_range = np.arange(100, 123.5, 0.5)\n",
    "z_range=np.arange(990558,1051878+24,24)\n",
    "print(len(y_range))\n",
    "\n",
    "# 创建网格数据\n",
    "xx, yy,zz = np.meshgrid(x_range, y_range,z_range)"
   ]
  },
  {
   "cell_type": "code",
   "execution_count": null,
   "metadata": {},
   "outputs": [],
   "source": [
    "import xarray as xr"
   ]
  },
  {
   "cell_type": "code",
   "execution_count": null,
   "metadata": {},
   "outputs": [],
   "source": [
    "result_temp= np.column_stack((xx.ravel(), yy.ravel(), zz.ravel()))\n",
    "np.set_printoptions(precision=1,suppress=True)\n",
    "print(result_temp)"
   ]
  },
  {
   "cell_type": "code",
   "execution_count": null,
   "metadata": {},
   "outputs": [],
   "source": [
    "name0=\"original_CV\"\n",
    "name1=name0+\".csv\"\n",
    "data_csv=pd.read_csv(name1,index_col=0)\n",
    "print(data_csv)"
   ]
  },
  {
   "cell_type": "code",
   "execution_count": null,
   "metadata": {},
   "outputs": [],
   "source": [
    "print(data_csv[\"longitude\"].min(),data_csv[\"exact_time\"].min())"
   ]
  },
  {
   "cell_type": "code",
   "execution_count": null,
   "metadata": {},
   "outputs": [],
   "source": [
    "aa=pd.DataFrame(result_temp,columns=[\"latitude\",\"longitude\",\"exact_time\"])\n",
    "aa[\"O3\"]=0\n",
    "sorted_aa = aa.sort_values(by=[\"latitude\",\"longitude\",\"exact_time\"])\n"
   ]
  },
  {
   "cell_type": "code",
   "execution_count": null,
   "metadata": {},
   "outputs": [],
   "source": [
    "for i in range(0,len(data_csv)):\n",
    "    timedata_csv=data_csv.iloc[i,0]\n",
    "    londata_csv=data_csv.iloc[i,1]\n",
    "    latdata_csv=data_csv.iloc[i,2]\n",
    "    seek1=(timedata_csv-990558)/24+2556*47*((londata_csv-100)/0.5)+2556*((latdata_csv-20)/0.5)\n",
    "\n",
    "    seek1=int(seek1)\n",
    "\n",
    "    aa.iloc[seek1,3]=data_csv.iloc[i,4]\n",
    "    if i%500==0:\n",
    "        print(i/len(data_csv))\n",
    "\n"
   ]
  },
  {
   "cell_type": "code",
   "execution_count": null,
   "metadata": {},
   "outputs": [],
   "source": [
    "aa = aa.sort_values(by=[\"exact_time\", \"latitude\", \"longitude\"])\n",
    "print(aa)\n",
    "\n",
    "# 将DataFrame转换为xarray的DataSet\n",
    "ds = xr.Dataset(\n",
    "    {\n",
    "        \"O3\": ((\"time\", \"latitude\", \"longitude\"), aa[\"O3\"].values.reshape(len(aa[\"exact_time\"].unique()), len(aa[\"latitude\"].unique()), len(aa[\"longitude\"].unique())))\n",
    "    },\n",
    "    coords={\n",
    "        \"longitude\": aa[\"longitude\"].unique(),\n",
    "        \"latitude\": aa[\"latitude\"].unique(),\n",
    "        \"time\": aa[\"exact_time\"].unique(),\n",
    "    },\n",
    ")\n",
    "\n",
    "# 将DataSet保存为.nc文件\n",
    "path0=\".//output//\"+name0+\".nc\"\n",
    "ds.to_netcdf(path0)\n",
    "\n",
    "\n",
    "\\\n"
   ]
  },
  {
   "cell_type": "code",
   "execution_count": null,
   "metadata": {},
   "outputs": [],
   "source": []
  },
  {
   "cell_type": "code",
   "execution_count": null,
   "metadata": {},
   "outputs": [],
   "source": []
  },
  {
   "cell_type": "code",
   "execution_count": null,
   "metadata": {},
   "outputs": [],
   "source": []
  },
  {
   "cell_type": "code",
   "execution_count": null,
   "metadata": {},
   "outputs": [],
   "source": []
  },
  {
   "cell_type": "code",
   "execution_count": null,
   "metadata": {},
   "outputs": [],
   "source": []
  },
  {
   "cell_type": "code",
   "execution_count": null,
   "metadata": {},
   "outputs": [],
   "source": []
  }
 ],
 "metadata": {
  "kernelspec": {
   "display_name": "base",
   "language": "python",
   "name": "python3"
  },
  "language_info": {
   "codemirror_mode": {
    "name": "ipython",
    "version": 3
   },
   "file_extension": ".py",
   "mimetype": "text/x-python",
   "name": "python",
   "nbconvert_exporter": "python",
   "pygments_lexer": "ipython3",
   "version": "3.12.7"
  }
 },
 "nbformat": 4,
 "nbformat_minor": 2
}
