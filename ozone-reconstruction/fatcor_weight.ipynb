{
 "cells": [
  {
   "cell_type": "code",
   "execution_count": null,
   "metadata": {},
   "outputs": [],
   "source": [
    "import numpy as np\n",
    "import pandas as pd\n",
    "import os\n",
    "from sklearn.metrics import mean_squared_error\n",
    "import datetime\n",
    "import xarray as xr\n",
    "from dateutil.relativedelta import relativedelta\n",
    "import multiprocessing\n",
    "from sklearn.model_selection import train_test_split\n",
    "import matplotlib.pyplot as plt\n",
    "from sklearn.ensemble import RandomForestRegressor\n",
    "from joblib import dump, load\n",
    "\n",
    "df=pd.read_csv('prepare_2014-2022.csv',index_col=0)\n"
   ]
  },
  {
   "cell_type": "code",
   "execution_count": null,
   "metadata": {},
   "outputs": [],
   "source": [
    "#df=df.drop(columns=[\"RADM2_CH4_\"])\n",
    "zero_counts = df.apply(lambda x: x[x == -9999.0].count())\n",
    "\n",
    "print(zero_counts.to_csv(\"E:\\\\de.csv\"))"
   ]
  },
  {
   "cell_type": "code",
   "execution_count": null,
   "metadata": {},
   "outputs": [],
   "source": [
    "df_filtered = df[~df.isin([ -9999.0]).any(axis=1)]\n"
   ]
  },
  {
   "cell_type": "code",
   "execution_count": null,
   "metadata": {},
   "outputs": [],
   "source": [
    "print(len(df_filtered))"
   ]
  },
  {
   "cell_type": "code",
   "execution_count": null,
   "metadata": {},
   "outputs": [],
   "source": [
    "\n",
    "df=df_filtered\n",
    "\n",
    "df=df.sample(n=200000)\n",
    "\n",
    "\n",
    "# 使用随机森林回归模型进行拟合\n",
    "y = df.iloc[:, 3]\n",
    "\n",
    "df2 = df.drop(columns=['exact_time', 'average'])\n",
    "df2 = (df2 - df2.mean()) / df2.std()\n",
    "X = df2.iloc[:, :]\n"
   ]
  },
  {
   "cell_type": "code",
   "execution_count": null,
   "metadata": {},
   "outputs": [],
   "source": [
    "print(X)"
   ]
  },
  {
   "cell_type": "code",
   "execution_count": null,
   "metadata": {},
   "outputs": [],
   "source": [
    "# 创建随机森林回归模型\n",
    "rf = RandomForestRegressor(n_estimators=200, random_state=42, verbose=1,n_jobs=15)\n",
    "X_train, X_test, y_train, y_test = train_test_split(X, y, test_size=0.2, random_state=42)"
   ]
  },
  {
   "cell_type": "code",
   "execution_count": null,
   "metadata": {},
   "outputs": [],
   "source": [
    "\n",
    "# 训练模型\n",
    "rf.fit(X_train, y_train)\n",
    "\n",
    "# 预测测试集\n",
    "y_pred = rf.predict(X_test)\n",
    "\n",
    "# 计算均方误差\n",
    "mse = mean_squared_error(y_test, y_pred)\n",
    "print(f'Mean Squared Error: {mse}')\n",
    "\n",
    "# 输出变量的贡献度\n",
    "importances = rf.feature_importances_\n",
    "feature_names = X.columns\n",
    "sorted_indices = np.argsort(importances)[::-1]\n",
    "for index, importance in enumerate(importances):\n",
    "    print(f'{feature_names[sorted_indices[index]]}: {importance}')\n",
    "top_indices = sorted_indices[:20]\n",
    "# 可视化变量的贡献度\n",
    "plt.figure(figsize=(30, 18))\n",
    "plt.barh(feature_names[top_indices], importances[top_indices], color='skyblue')\n",
    "plt.xlabel('Feature Importance')\n",
    "plt.title('Feature Importances from Random Forest')\n",
    "plt.savefig(\"E:\\\\pjy.png\", dpi=300, bbox_inches='tight')\n",
    "plt.show()"
   ]
  },
  {
   "cell_type": "code",
   "execution_count": null,
   "metadata": {},
   "outputs": [],
   "source": [
    "# 输出变量的贡献度\n",
    "importances = rf.feature_importances_\n",
    "\n",
    "\n",
    "\n",
    "feature_names = X.columns\n",
    "\n",
    "\n",
    "# 创建DataFrame\n",
    "df_importances = pd.DataFrame({\n",
    "    'Feature': feature_names,\n",
    "    'Importance': importances\n",
    "})\n",
    "\n",
    "# 按贡献度排序并选择前20个特征\n",
    "df_importances_sorted = df_importances.sort_values(by='Importance', ascending=False)\n",
    "\n",
    "# 保存为Excel文件\n",
    "csv_path = 'feature_importances.csv'\n",
    "df_importances_sorted.to_csv(csv_path, index=False)\n",
    "\n",
    "\n",
    "sorted_indices = np.argsort(importances)[::-1]\n",
    "for index, importance in enumerate(importances):\n",
    "    print(f'{feature_names[sorted_indices[index]]}: {importance}')\n",
    "top_indices = sorted_indices[:20]\n",
    "\n",
    "\n",
    "\n",
    "\n",
    "# 可视化变量的贡献度\n",
    "plt.figure(figsize=(10, 6))\n",
    "plt.barh(feature_names[top_indices], importances[top_indices], color='skyblue')\n",
    "plt.xlabel('Feature Importance')\n",
    "plt.title('Feature Importances from Random Forest')\n",
    "plt.savefig(\"E:\\\\pjy.png\", dpi=300, bbox_inches='tight')\n",
    "plt.show()"
   ]
  }
 ],
 "metadata": {
  "kernelspec": {
   "display_name": "lgb-gpu",
   "language": "python",
   "name": "python3"
  },
  "language_info": {
   "codemirror_mode": {
    "name": "ipython",
    "version": 3
   },
   "file_extension": ".py",
   "mimetype": "text/x-python",
   "name": "python",
   "nbconvert_exporter": "python",
   "pygments_lexer": "ipython3",
   "version": "3.10.14"
  }
 },
 "nbformat": 4,
 "nbformat_minor": 2
}
