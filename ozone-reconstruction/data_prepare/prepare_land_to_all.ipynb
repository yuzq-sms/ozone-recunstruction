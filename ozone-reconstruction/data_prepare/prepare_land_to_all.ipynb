{
 "cells": [
  {
   "cell_type": "code",
   "execution_count": null,
   "metadata": {},
   "outputs": [],
   "source": [
    "import numpy as np\n",
    "import pandas as pd"
   ]
  },
  {
   "cell_type": "code",
   "execution_count": null,
   "metadata": {},
   "outputs": [],
   "source": [
    "a=pd.read_csv(\"prepare_1981-1990.csv\",index_col=0)\n"
   ]
  },
  {
   "cell_type": "code",
   "execution_count": null,
   "metadata": {},
   "outputs": [],
   "source": [
    "lonlist=np.arange(100,123.5,0.5)\n",
    "latlist=np.arange(20,43.5,0.5)"
   ]
  },
  {
   "cell_type": "code",
   "execution_count": null,
   "metadata": {},
   "outputs": [],
   "source": [
    "a[\"soil\"]=0.0\n",
    "a[\"topography\"]=0.0\n",
    "print(a)"
   ]
  },
  {
   "cell_type": "code",
   "execution_count": null,
   "metadata": {},
   "outputs": [],
   "source": [
    "so=np.load(\"G:\\\\盘古大模型\\\\Pangu-Weather-main\\\\Pangu-Weather-main\\\\constant_masks\\\\soil_type.npy\")\n",
    "to=np.load(\"G:\\\\盘古大模型\\\\Pangu-Weather-main\\\\Pangu-Weather-main\\\\constant_masks\\\\topography.npy\")\n",
    "for i in range(0,47):\n",
    "    for j in range(0,47):\n",
    "        lon=lonlist[i];lat=latlist[j]\n",
    "        ii=int((90-lat)*4);jj=int(lon*4)\n",
    "        a.loc[(a['longitude'] == lon) & (a['latitude'] == lat), 'soil'] = so[ii,jj]\n",
    "        a.loc[(a['longitude'] == lon) & (a['latitude'] == lat), \"topography\"] = to[ii,jj]\n"
   ]
  },
  {
   "cell_type": "code",
   "execution_count": null,
   "metadata": {},
   "outputs": [],
   "source": [
    "a.to_csv(\"prepare_1981-1990.csv\")"
   ]
  },
  {
   "cell_type": "code",
   "execution_count": null,
   "metadata": {},
   "outputs": [],
   "source": []
  },
  {
   "cell_type": "code",
   "execution_count": null,
   "metadata": {},
   "outputs": [],
   "source": [
    "import matplotlib.pyplot as plt\n",
    "import seaborn as sns"
   ]
  },
  {
   "cell_type": "code",
   "execution_count": null,
   "metadata": {},
   "outputs": [],
   "source": [
    "grouped_df3 = a.groupby(['longitude', 'latitude'])[\"topography\"].mean().reset_index()\n",
    "# 绘制散点图\n",
    "plt.figure(figsize=(10, 6))\n",
    "sns.scatterplot(x='longitude', y='latitude', hue=\"topography\", size=\"topography\", data=grouped_df3, palette='coolwarm', legend='brief')"
   ]
  },
  {
   "cell_type": "code",
   "execution_count": null,
   "metadata": {},
   "outputs": [],
   "source": [
    "# 只读取列名，而不加载整个文件\n",
    "df1 = pd.read_csv(\"prepare_1981-1989.csv\", nrows=0)\n",
    "df2 = pd.read_csv(\"prepare_2000-2012.csv\", nrows=0)\n",
    "\n",
    "# 输出两个DataFrame的列索引名\n",
    "print(\"Columns in file1.csv:\")\n",
    "print(df1.columns.tolist())\n",
    "\n",
    "print(\"\\nColumns in file2.csv:\")\n",
    "print(df2.columns.tolist())\n"
   ]
  }
 ],
 "metadata": {
  "kernelspec": {
   "display_name": "lgb-gpu",
   "language": "python",
   "name": "python3"
  },
  "language_info": {
   "codemirror_mode": {
    "name": "ipython",
    "version": 3
   },
   "file_extension": ".py",
   "mimetype": "text/x-python",
   "name": "python",
   "nbconvert_exporter": "python",
   "pygments_lexer": "ipython3",
   "version": "3.10.14"
  }
 },
 "nbformat": 4,
 "nbformat_minor": 2
}
